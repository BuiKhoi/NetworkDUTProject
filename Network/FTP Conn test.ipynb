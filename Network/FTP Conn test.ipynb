{
 "cells": [
  {
   "cell_type": "code",
   "execution_count": 48,
   "metadata": {},
   "outputs": [
    {
     "data": {
      "text/plain": [
       "'230 Login successful.'"
      ]
     },
     "execution_count": 48,
     "metadata": {},
     "output_type": "execute_result"
    }
   ],
   "source": [
    "from ftplib import FTP\n",
    "\n",
    "ftp_ip = \"192.168.1.21\"\n",
    "ftp_usr = \"buikhoi\"\n",
    "ftp_pwd = \"297586\"\n",
    "\n",
    "\n",
    "ftp_client = FTP(ftp_ip)\n",
    "ftp_client.login(user=ftp_usr, passwd = ftp_pwd)"
   ]
  },
  {
   "cell_type": "code",
   "execution_count": 2,
   "metadata": {},
   "outputs": [
    {
     "data": {
      "text/plain": [
       "'220 (vsFTPd 3.0.3)'"
      ]
     },
     "execution_count": 2,
     "metadata": {},
     "output_type": "execute_result"
    }
   ],
   "source": [
    "ftp_client.welcome"
   ]
  },
  {
   "cell_type": "code",
   "execution_count": 53,
   "metadata": {},
   "outputs": [
    {
     "data": {
      "text/plain": [
       "'/home'"
      ]
     },
     "execution_count": 53,
     "metadata": {},
     "output_type": "execute_result"
    }
   ],
   "source": [
    "ftp_client.pwd()"
   ]
  },
  {
   "cell_type": "code",
   "execution_count": 46,
   "metadata": {},
   "outputs": [
    {
     "data": {
      "text/plain": [
       "'226 Directory send OK.'"
      ]
     },
     "execution_count": 46,
     "metadata": {},
     "output_type": "execute_result"
    }
   ],
   "source": [
    "ftp_client.retrlines('NLST', files_handler)"
   ]
  },
  {
   "cell_type": "code",
   "execution_count": 45,
   "metadata": {},
   "outputs": [],
   "source": [
    "files = []\n",
    "def files_handler(text):\n",
    "    global files\n",
    "    files.append(text)"
   ]
  },
  {
   "cell_type": "code",
   "execution_count": 47,
   "metadata": {},
   "outputs": [
    {
     "data": {
      "text/plain": [
       "['Funix',\n",
       " 'HDSD.pdf',\n",
       " 'Journal2016IJAIEM.pdf',\n",
       " 'NNHT.pdf',\n",
       " 'Vietnamese-Herbal-Plant-Recognition-Using-Deep-Convolutional-Features.pdf']"
      ]
     },
     "execution_count": 47,
     "metadata": {},
     "output_type": "execute_result"
    }
   ],
   "source": [
    "files"
   ]
  },
  {
   "cell_type": "code",
   "execution_count": 52,
   "metadata": {},
   "outputs": [
    {
     "data": {
      "text/plain": [
       "'250 Directory successfully changed.'"
      ]
     },
     "execution_count": 52,
     "metadata": {},
     "output_type": "execute_result"
    }
   ],
   "source": [
    "ftp_client.cwd('/home')"
   ]
  },
  {
   "cell_type": "code",
   "execution_count": 69,
   "metadata": {},
   "outputs": [],
   "source": [
    "class FTPHandler:\n",
    "    def __init__(self, ip, user, password):\n",
    "        self.ip = ip\n",
    "        self.user = user\n",
    "        self.password = password\n",
    "        self.init_fpt_connection()\n",
    "        self.current_folder = self.get_current_folder()\n",
    "        \n",
    "    def init_fpt_connection(self):\n",
    "        self.ftp_client = FTP(self.ip)\n",
    "        self.ftp_client.login(user=self.user, passwd = self.password)\n",
    "        \n",
    "    def get_current_folder(self):\n",
    "        return self.ftp_client.pwd()\n",
    "    \n",
    "    def open_folder(self, folder):\n",
    "        self.ftp_client.cwd(folder)\n",
    "        self.current_folder = self.get_current_folder()\n",
    "        return self.current_folder\n",
    "    \n",
    "    def create_folder(self, folder_name):\n",
    "        self.ftp_client.mkd(folder_name)\n",
    "        \n",
    "    def delete_folder(self, folder_name):\n",
    "        self.ftp_client.rmd(folder_name)\n",
    "        \n",
    "    def delelte_file(self, file_name):\n",
    "        self.ftp_client.delete(file_name)\n",
    "        \n",
    "    def files_list_handler(self, text):\n",
    "        self.files.append(text)\n",
    "        \n",
    "    def get_folder_items(self):\n",
    "        self.files = []\n",
    "        self.ftp_client.retrlines('NLST', self.files_list_handler)\n",
    "        return self.files\n",
    "        \n",
    "    def upload_file(self, file_path):\n",
    "        file_stream = open(file_path, 'rb')\n",
    "        self.ftp_client.storbinary(\"{CMD} {FileName}\".\n",
    "               format(CMD=\"STOR\", FileName=file_path.split('/')[-1]),\n",
    "               file_stream)\n",
    "        file_stream.close()\n",
    "    \n",
    "    def download_file(self, file_name, save_path):\n",
    "        file_path = save_path + file_name\n",
    "        file_stream = open(file_path, \"wb\")\n",
    "        self.ftp_client.retrbinary('RETR {}'.format(file_name), file_stream.write, 1024)\n",
    "        file_stream.close()\n",
    "        \n",
    "    def reconnect(self):\n",
    "        self.init_fpt_connection()\n",
    "        self.open_folder(self.current_folder)"
   ]
  },
  {
   "cell_type": "code",
   "execution_count": 70,
   "metadata": {},
   "outputs": [],
   "source": [
    "ftp_handler = FTPHandler(\n",
    "    '192.168.1.21',\n",
    "    'buikhoi',\n",
    "    '297586'\n",
    ")"
   ]
  },
  {
   "cell_type": "code",
   "execution_count": 71,
   "metadata": {},
   "outputs": [
    {
     "data": {
      "text/plain": [
       "'/home/buikhoi'"
      ]
     },
     "execution_count": 71,
     "metadata": {},
     "output_type": "execute_result"
    }
   ],
   "source": [
    "ftp_handler.get_current_folder()"
   ]
  },
  {
   "cell_type": "code",
   "execution_count": 63,
   "metadata": {},
   "outputs": [],
   "source": [
    "ftp_handler.reconnect()"
   ]
  },
  {
   "cell_type": "code",
   "execution_count": 72,
   "metadata": {},
   "outputs": [
    {
     "data": {
      "text/plain": [
       "['Desktop',\n",
       " 'Documents',\n",
       " 'Downloads',\n",
       " 'Music',\n",
       " 'NVIDIA_CUDA-10.1_Samples',\n",
       " 'Pictures',\n",
       " 'Public',\n",
       " 'Templates',\n",
       " 'Videos',\n",
       " 'VirtualBox VMs',\n",
       " 'catkin_ws',\n",
       " 'conf',\n",
       " 'fontconfig',\n",
       " 'logs',\n",
       " 'miniconda3',\n",
       " 'nvidia',\n",
       " 'snap',\n",
       " 'swapfile',\n",
       " 'zoo']"
      ]
     },
     "execution_count": 72,
     "metadata": {},
     "output_type": "execute_result"
    }
   ],
   "source": [
    "ftp_handler.get_folder_items()"
   ]
  },
  {
   "cell_type": "code",
   "execution_count": 73,
   "metadata": {},
   "outputs": [
    {
     "data": {
      "text/plain": [
       "'/home/buikhoi/Documents'"
      ]
     },
     "execution_count": 73,
     "metadata": {},
     "output_type": "execute_result"
    }
   ],
   "source": [
    "ftp_handler.open_folder('Documents')"
   ]
  },
  {
   "cell_type": "code",
   "execution_count": 74,
   "metadata": {},
   "outputs": [
    {
     "data": {
      "text/plain": [
       "['Funix',\n",
       " 'HDSD.pdf',\n",
       " 'Journal2016IJAIEM.pdf',\n",
       " 'NNHT.pdf',\n",
       " 'Vietnamese-Herbal-Plant-Recognition-Using-Deep-Convolutional-Features.pdf']"
      ]
     },
     "execution_count": 74,
     "metadata": {},
     "output_type": "execute_result"
    }
   ],
   "source": [
    "ftp_handler.get_folder_items()"
   ]
  },
  {
   "cell_type": "code",
   "execution_count": 75,
   "metadata": {},
   "outputs": [],
   "source": [
    "ftp_handler.delelte_file('NNHT.pdf')"
   ]
  },
  {
   "cell_type": "code",
   "execution_count": 76,
   "metadata": {},
   "outputs": [
    {
     "data": {
      "text/plain": [
       "['Funix',\n",
       " 'HDSD.pdf',\n",
       " 'Journal2016IJAIEM.pdf',\n",
       " 'Vietnamese-Herbal-Plant-Recognition-Using-Deep-Convolutional-Features.pdf']"
      ]
     },
     "execution_count": 76,
     "metadata": {},
     "output_type": "execute_result"
    }
   ],
   "source": [
    "ftp_handler.get_folder_items()"
   ]
  },
  {
   "cell_type": "code",
   "execution_count": 77,
   "metadata": {},
   "outputs": [],
   "source": [
    "ftp_handler.download_file('Journal2016IJAIEM.pdf', './')"
   ]
  },
  {
   "cell_type": "code",
   "execution_count": 78,
   "metadata": {},
   "outputs": [],
   "source": [
    "ftp_handler.delelte_file('Journal2016IJAIEM.pdf')"
   ]
  },
  {
   "cell_type": "code",
   "execution_count": 79,
   "metadata": {},
   "outputs": [
    {
     "data": {
      "text/plain": [
       "['Funix',\n",
       " 'HDSD.pdf',\n",
       " 'Vietnamese-Herbal-Plant-Recognition-Using-Deep-Convolutional-Features.pdf']"
      ]
     },
     "execution_count": 79,
     "metadata": {},
     "output_type": "execute_result"
    }
   ],
   "source": [
    "ftp_handler.get_folder_items()"
   ]
  },
  {
   "cell_type": "code",
   "execution_count": 80,
   "metadata": {},
   "outputs": [],
   "source": [
    "ftp_handler.upload_file('./Journal2016IJAIEM.pdf')"
   ]
  },
  {
   "cell_type": "code",
   "execution_count": 81,
   "metadata": {},
   "outputs": [
    {
     "data": {
      "text/plain": [
       "['Funix',\n",
       " 'HDSD.pdf',\n",
       " 'Journal2016IJAIEM.pdf',\n",
       " 'Vietnamese-Herbal-Plant-Recognition-Using-Deep-Convolutional-Features.pdf']"
      ]
     },
     "execution_count": 81,
     "metadata": {},
     "output_type": "execute_result"
    }
   ],
   "source": [
    "ftp_handler.get_folder_items()"
   ]
  },
  {
   "cell_type": "code",
   "execution_count": null,
   "metadata": {},
   "outputs": [],
   "source": []
  }
 ],
 "metadata": {
  "kernelspec": {
   "display_name": "Python 3",
   "language": "python",
   "name": "python3"
  },
  "language_info": {
   "codemirror_mode": {
    "name": "ipython",
    "version": 3
   },
   "file_extension": ".py",
   "mimetype": "text/x-python",
   "name": "python",
   "nbconvert_exporter": "python",
   "pygments_lexer": "ipython3",
   "version": "3.6.9"
  }
 },
 "nbformat": 4,
 "nbformat_minor": 2
}
